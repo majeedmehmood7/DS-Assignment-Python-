{
 "cells": [
  {
   "cell_type": "code",
   "execution_count": 4,
   "id": "9297874c",
   "metadata": {},
   "outputs": [
    {
     "name": "stdout",
     "output_type": "stream",
     "text": [
      "Twinkle,Twinkle,Little,Star,\n",
      "   How i Wonder what you arel\n",
      "            Up above world So high,\n",
      "            like a diamond in the sky\n",
      "Twinkle,Twinkle,little,Star,\n",
      "   How i wonder what you are\n"
     ]
    }
   ],
   "source": [
    "print (\"Twinkle,Twinkle,Little,Star,\");\n",
    "print (\"   How i Wonder what you arel\");\n",
    "print (\"            Up above world So high,\");\n",
    "print (\"            like a diamond in the sky\");\n",
    "print (\"Twinkle,Twinkle,little,Star,\");\n",
    "print (\"   How i wonder what you are\");"
   ]
  },
  {
   "cell_type": "code",
   "execution_count": 5,
   "id": "955a4dfd",
   "metadata": {},
   "outputs": [
    {
     "name": "stdout",
     "output_type": "stream",
     "text": [
      "Python Version\n",
      "3.9.7 (default, Sep 16 2021, 16:59:28) [MSC v.1916 64 bit (AMD64)]\n"
     ]
    }
   ],
   "source": [
    "import sys\n",
    "print (\"Python Version\");\n",
    "print (sys.version);"
   ]
  },
  {
   "cell_type": "code",
   "execution_count": 6,
   "id": "0021117a",
   "metadata": {},
   "outputs": [
    {
     "name": "stdout",
     "output_type": "stream",
     "text": [
      "Today's Date & Current Time Is 2022-01-01 23:19:48.059874\n"
     ]
    }
   ],
   "source": [
    "from datetime import datetime\n",
    "today = datetime.today()\n",
    "\n",
    "print (\"Today's Date & Current Time Is\", today);"
   ]
  },
  {
   "cell_type": "code",
   "execution_count": 7,
   "id": "ca54f89c",
   "metadata": {},
   "outputs": [
    {
     "name": "stdout",
     "output_type": "stream",
     "text": [
      "Enter radius of circle : 3\n",
      "Area of the circle is: 28.274333882308138\n"
     ]
    }
   ],
   "source": [
    "from math import pi\n",
    "\n",
    "r = float(input (\"Enter radius of circle : \"))\n",
    "\n",
    "print (\"Area of the circle is: \" + str(pi * r**2));"
   ]
  },
  {
   "cell_type": "code",
   "execution_count": 8,
   "id": "2ed6d839",
   "metadata": {},
   "outputs": [
    {
     "name": "stdout",
     "output_type": "stream",
     "text": [
      "Input your First Name : Shahid\n",
      "Input your Last Name : Khan\n",
      "Hello  Khan Shahid\n"
     ]
    }
   ],
   "source": [
    "firstname = input(\"Input your First Name : \")\n",
    "lastname = input(\"Input your Last Name : \")\n",
    "print (\"Hello  \" + lastname + \" \" + firstname);"
   ]
  },
  {
   "cell_type": "code",
   "execution_count": 10,
   "id": "1bdc875e",
   "metadata": {},
   "outputs": [
    {
     "name": "stdout",
     "output_type": "stream",
     "text": [
      "Enter Your Value3\n",
      "Enter Your Sec Value7\n",
      "10\n"
     ]
    }
   ],
   "source": [
    " a= (input(\"Enter Your Value\"))\n",
    "b = (input(\"Enter Your Sec Value\"))\n",
    "print (int(a)+ int(b));"
   ]
  },
  {
   "cell_type": "code",
   "execution_count": null,
   "id": "57895c8d",
   "metadata": {},
   "outputs": [],
   "source": []
  }
 ],
 "metadata": {
  "kernelspec": {
   "display_name": "Python 3 (ipykernel)",
   "language": "python",
   "name": "python3"
  },
  "language_info": {
   "codemirror_mode": {
    "name": "ipython",
    "version": 3
   },
   "file_extension": ".py",
   "mimetype": "text/x-python",
   "name": "python",
   "nbconvert_exporter": "python",
   "pygments_lexer": "ipython3",
   "version": "3.9.7"
  }
 },
 "nbformat": 4,
 "nbformat_minor": 5
}
